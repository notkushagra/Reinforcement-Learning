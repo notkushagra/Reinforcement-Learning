{
 "cells": [
  {
   "cell_type": "markdown",
   "metadata": {},
   "source": [
    "# 1. Import Dependencies"
   ]
  },
  {
   "cell_type": "code",
   "execution_count": null,
   "metadata": {},
   "outputs": [],
   "source": [
    "#Install SWIG https://sourceforge.net/projects/swig/files/swigwin/swigwin-4.0.2/swigwin-4.0.2.zip/download?use_mirror=ixpeering"
   ]
  },
  {
   "cell_type": "code",
   "execution_count": null,
   "metadata": {},
   "outputs": [
    {
     "name": "stdout",
     "output_type": "stream",
     "text": [
      "Collecting gym==0.18.3\n",
      "  Using cached gym-0.18.3.tar.gz (1.6 MB)\n",
      "  Preparing metadata (setup.py): started\n",
      "  Preparing metadata (setup.py): finished with status 'done'\n",
      "Collecting scipy\n",
      "  Downloading scipy-1.7.3-cp37-cp37m-win_amd64.whl (34.1 MB)\n",
      "     --------------------------------------- 34.1/34.1 MB 10.1 MB/s eta 0:00:00\n",
      "Collecting numpy>=1.10.4\n",
      "  Downloading numpy-1.21.6-cp37-cp37m-win_amd64.whl (14.0 MB)\n",
      "     ---------------------------------------- 14.0/14.0 MB 8.6 MB/s eta 0:00:00\n",
      "Collecting pyglet<=1.5.15,>=1.4.0\n",
      "  Using cached pyglet-1.5.15-py3-none-any.whl (1.1 MB)\n",
      "Collecting Pillow<=8.2.0\n",
      "  Downloading Pillow-8.2.0-cp37-cp37m-win_amd64.whl (2.2 MB)\n",
      "     ---------------------------------------- 2.2/2.2 MB 2.6 MB/s eta 0:00:00\n",
      "Collecting cloudpickle<1.7.0,>=1.2.0\n",
      "  Using cached cloudpickle-1.6.0-py3-none-any.whl (23 kB)\n",
      "Installing collected packages: pyglet, Pillow, numpy, cloudpickle, scipy, gym\n",
      "  Running setup.py install for gym: started\n",
      "  Running setup.py install for gym: finished with status 'done'\n",
      "Successfully installed Pillow-8.2.0 cloudpickle-1.6.0 gym-0.18.3 numpy-1.21.6 pyglet-1.5.15 scipy-1.7.3\n"
     ]
    },
    {
     "name": "stderr",
     "output_type": "stream",
     "text": [
      "  DEPRECATION: gym is being installed using the legacy 'setup.py install' method, because it does not have a 'pyproject.toml' and the 'wheel' package is not installed. pip 23.1 will enforce this behaviour change. A possible replacement is to enable the '--use-pep517' option. Discussion can be found at https://github.com/pypa/pip/issues/8559\n"
     ]
    }
   ],
   "source": [
    "!pip install gym==0.18.3\n",
    "\n",
    "!pip install stable-baselines3[extra]==1.0\n",
    "\n",
    "!pip install pyglet==1.5.15\n",
    "\n",
    "# !pip install box2d-py==2.3.8"
   ]
  },
  {
   "cell_type": "code",
   "execution_count": null,
   "metadata": {
    "scrolled": true
   },
   "outputs": [],
   "source": [
    "!pip install Box2D"
   ]
  },
  {
   "cell_type": "code",
   "execution_count": null,
   "metadata": {},
   "outputs": [],
   "source": [
    "!pip install cloudpickle==1.6.0"
   ]
  },
  {
   "cell_type": "code",
   "execution_count": 16,
   "metadata": {
    "collapsed": true
   },
   "outputs": [
    {
     "name": "stdout",
     "output_type": "stream",
     "text": [
      "Requirement already satisfied: gym[box2d]==0.18.3 in c:\\users\\31kus\\.pyenv\\pyenv-win\\versions\\3.8.0\\lib\\site-packages (0.18.3)\n",
      "Requirement already satisfied: scipy in c:\\users\\31kus\\.pyenv\\pyenv-win\\versions\\3.8.0\\lib\\site-packages (from gym[box2d]==0.18.3) (1.10.0)\n",
      "Requirement already satisfied: numpy>=1.10.4 in c:\\users\\31kus\\.pyenv\\pyenv-win\\versions\\3.8.0\\lib\\site-packages (from gym[box2d]==0.18.3) (1.24.2)\n",
      "Requirement already satisfied: pyglet<=1.5.15,>=1.4.0 in c:\\users\\31kus\\.pyenv\\pyenv-win\\versions\\3.8.0\\lib\\site-packages (from gym[box2d]==0.18.3) (1.5.15)\n",
      "Requirement already satisfied: Pillow<=8.2.0 in c:\\users\\31kus\\.pyenv\\pyenv-win\\versions\\3.8.0\\lib\\site-packages (from gym[box2d]==0.18.3) (8.2.0)\n",
      "Requirement already satisfied: cloudpickle<1.7.0,>=1.2.0 in c:\\users\\31kus\\.pyenv\\pyenv-win\\versions\\3.8.0\\lib\\site-packages (from gym[box2d]==0.18.3) (1.6.0)\n",
      "Collecting box2d-py~=2.3.5\n",
      "  Using cached box2d-py-2.3.8.tar.gz (374 kB)\n",
      "  Preparing metadata (setup.py): started\n",
      "  Preparing metadata (setup.py): finished with status 'done'\n",
      "Building wheels for collected packages: box2d-py\n",
      "  Building wheel for box2d-py (setup.py): started\n",
      "  Building wheel for box2d-py (setup.py): finished with status 'error'\n",
      "  Running setup.py clean for box2d-py\n",
      "Failed to build box2d-py\n",
      "Installing collected packages: box2d-py\n",
      "  Running setup.py install for box2d-py: started\n",
      "  Running setup.py install for box2d-py: finished with status 'error'\n"
     ]
    },
    {
     "name": "stderr",
     "output_type": "stream",
     "text": [
      "  error: subprocess-exited-with-error\n",
      "  \n",
      "  python setup.py bdist_wheel did not run successfully.\n",
      "  exit code: 1\n",
      "  \n",
      "  [16 lines of output]\n",
      "  Using setuptools (version 41.2.0).\n",
      "  running bdist_wheel\n",
      "  running build\n",
      "  running build_py\n",
      "  creating build\n",
      "  creating build\\lib.win-amd64-3.8\n",
      "  creating build\\lib.win-amd64-3.8\\Box2D\n",
      "  copying library\\Box2D\\Box2D.py -> build\\lib.win-amd64-3.8\\Box2D\n",
      "  copying library\\Box2D\\__init__.py -> build\\lib.win-amd64-3.8\\Box2D\n",
      "  creating build\\lib.win-amd64-3.8\\Box2D\\b2\n",
      "  copying library\\Box2D\\b2\\__init__.py -> build\\lib.win-amd64-3.8\\Box2D\\b2\n",
      "  running build_ext\n",
      "  building 'Box2D._Box2D' extension\n",
      "  swigging Box2D\\Box2D.i to Box2D\\Box2D_wrap.cpp\n",
      "  swig.exe -python -c++ -IBox2D -small -O -includeall -ignoremissing -w201 -globals b2Globals -outdir library\\Box2D -keyword -w511 -D_SWIG_KWARGS -o Box2D\\Box2D_wrap.cpp Box2D\\Box2D.i\n",
      "  error: command 'swig.exe' failed: No such file or directory\n",
      "  [end of output]\n",
      "  \n",
      "  note: This error originates from a subprocess, and is likely not a problem with pip.\n",
      "  ERROR: Failed building wheel for box2d-py\n",
      "  error: subprocess-exited-with-error\n",
      "  \n",
      "  Running setup.py install for box2d-py did not run successfully.\n",
      "  exit code: 1\n",
      "  \n",
      "  [16 lines of output]\n",
      "  Using setuptools (version 41.2.0).\n",
      "  running install\n",
      "  running build\n",
      "  running build_py\n",
      "  creating build\n",
      "  creating build\\lib.win-amd64-3.8\n",
      "  creating build\\lib.win-amd64-3.8\\Box2D\n",
      "  copying library\\Box2D\\Box2D.py -> build\\lib.win-amd64-3.8\\Box2D\n",
      "  copying library\\Box2D\\__init__.py -> build\\lib.win-amd64-3.8\\Box2D\n",
      "  creating build\\lib.win-amd64-3.8\\Box2D\\b2\n",
      "  copying library\\Box2D\\b2\\__init__.py -> build\\lib.win-amd64-3.8\\Box2D\\b2\n",
      "  running build_ext\n",
      "  building 'Box2D._Box2D' extension\n",
      "  swigging Box2D\\Box2D.i to Box2D\\Box2D_wrap.cpp\n",
      "  swig.exe -python -c++ -IBox2D -small -O -includeall -ignoremissing -w201 -globals b2Globals -outdir library\\Box2D -keyword -w511 -D_SWIG_KWARGS -o Box2D\\Box2D_wrap.cpp Box2D\\Box2D.i\n",
      "  error: command 'swig.exe' failed: No such file or directory\n",
      "  [end of output]\n",
      "  \n",
      "  note: This error originates from a subprocess, and is likely not a problem with pip.\n",
      "error: legacy-install-failure\n",
      "\n",
      "Encountered error while trying to install package.\n",
      "\n",
      "box2d-py\n",
      "\n",
      "note: This is an issue with the package mentioned above, not pip.\n",
      "hint: See above for output from the failure.\n"
     ]
    }
   ],
   "source": [
    "!pip install gym[box2d]==0.18.3"
   ]
  },
  {
   "cell_type": "code",
   "execution_count": 1,
   "metadata": {
    "scrolled": true
   },
   "outputs": [],
   "source": [
    "import gym \n",
    "from stable_baselines3 import PPO\n",
    "from stable_baselines3.common.vec_env import VecFrameStack\n",
    "from stable_baselines3.common.evaluation import evaluate_policy\n",
    "import os"
   ]
  },
  {
   "cell_type": "code",
   "execution_count": 11,
   "metadata": {},
   "outputs": [
    {
     "name": "stdout",
     "output_type": "stream",
     "text": [
      "absl-py==1.4.0\n",
      "anyio==3.6.2\n",
      "argon2-cffi==21.3.0\n",
      "argon2-cffi-bindings==21.2.0\n",
      "arrow==1.2.3\n",
      "asttokens==2.2.1\n",
      "atari-py==0.2.9\n",
      "attrs==22.2.0\n",
      "backcall==0.2.0\n",
      "beautifulsoup4==4.11.2\n",
      "bleach==6.0.0\n",
      "Box2D==2.3.10\n",
      "cachetools==5.3.0\n",
      "certifi==2022.12.7\n",
      "cffi==1.15.1\n",
      "charset-normalizer==3.0.1\n",
      "cloudpickle==1.6.0\n",
      "colorama==0.4.6\n",
      "comm==0.1.2\n",
      "contourpy==1.0.7\n",
      "cycler==0.11.0\n",
      "debugpy==1.6.6\n",
      "decorator==5.1.1\n",
      "defusedxml==0.7.1\n",
      "executing==1.2.0\n",
      "fastjsonschema==2.16.2\n",
      "fonttools==4.38.0\n",
      "fqdn==1.5.1\n",
      "google-auth==2.16.1\n",
      "google-auth-oauthlib==0.4.6\n",
      "grpcio==1.51.1\n",
      "gym==0.18.3\n",
      "idna==3.4\n",
      "importlib-metadata==6.0.0\n",
      "importlib-resources==5.12.0\n",
      "ipykernel==6.21.2\n",
      "ipython==8.10.0\n",
      "ipython-genutils==0.2.0\n",
      "isoduration==20.11.0\n",
      "jedi==0.18.2\n",
      "Jinja2==3.1.2\n",
      "jsonpointer==2.3\n",
      "jsonschema==4.17.3\n",
      "jupyter-events==0.6.3\n",
      "jupyter_client==8.0.3\n",
      "jupyter_core==5.2.0\n",
      "jupyter_server==2.3.0\n",
      "jupyter_server_terminals==0.4.4\n",
      "jupyterlab-pygments==0.2.2\n",
      "kiwisolver==1.4.4\n",
      "Markdown==3.4.1\n",
      "MarkupSafe==2.1.2\n",
      "matplotlib==3.7.0\n",
      "matplotlib-inline==0.1.6\n",
      "mistune==2.0.5\n",
      "nbclassic==0.5.1\n",
      "nbclient==0.7.2\n",
      "nbconvert==7.2.9\n",
      "nbformat==5.7.3\n",
      "nest-asyncio==1.5.6\n",
      "notebook==6.5.2\n",
      "notebook_shim==0.2.2\n",
      "numpy==1.24.2\n",
      "oauthlib==3.2.2\n",
      "opencv-python==4.7.0.68\n",
      "packaging==23.0\n",
      "pandas==1.5.3\n",
      "pandocfilters==1.5.0\n",
      "parso==0.8.3\n",
      "pickleshare==0.7.5\n",
      "Pillow==8.2.0\n",
      "pkgutil_resolve_name==1.3.10\n",
      "platformdirs==3.0.0\n",
      "prometheus-client==0.16.0\n",
      "prompt-toolkit==3.0.36\n",
      "protobuf==4.22.0\n",
      "psutil==5.9.4\n",
      "pure-eval==0.2.2\n",
      "pyasn1==0.4.8\n",
      "pyasn1-modules==0.2.8\n",
      "pycparser==2.21\n",
      "pyglet==1.5.15\n",
      "Pygments==2.14.0\n",
      "pyparsing==3.0.9\n",
      "pyrsistent==0.19.3\n",
      "python-dateutil==2.8.2\n",
      "python-json-logger==2.0.6\n",
      "pytz==2022.7.1\n",
      "pywin32==305\n",
      "pywinpty==2.0.10\n",
      "PyYAML==6.0\n",
      "pyzmq==25.0.0\n",
      "requests==2.28.2\n",
      "requests-oauthlib==1.3.1\n",
      "rfc3339-validator==0.1.4\n",
      "rfc3986-validator==0.1.1\n",
      "rsa==4.9\n",
      "scipy==1.10.0\n",
      "Send2Trash==1.8.0\n",
      "six==1.16.0\n",
      "sniffio==1.3.0\n",
      "soupsieve==2.4\n",
      "stable-baselines3==1.0\n",
      "stack-data==0.6.2\n",
      "tensorboard==2.12.0\n",
      "tensorboard-data-server==0.7.0\n",
      "tensorboard-plugin-wit==1.8.1\n",
      "terminado==0.17.1\n",
      "tinycss2==1.2.1\n",
      "torch==1.13.1\n",
      "tornado==6.2\n",
      "traitlets==5.9.0\n",
      "typing_extensions==4.5.0\n",
      "uri-template==1.2.0\n",
      "urllib3==1.26.14\n",
      "wcwidth==0.2.6\n",
      "webcolors==1.12\n",
      "webencodings==0.5.1\n",
      "websocket-client==1.5.1\n",
      "Werkzeug==2.2.3\n",
      "zipp==3.14.0\n"
     ]
    }
   ],
   "source": [
    "!pip freeze"
   ]
  },
  {
   "cell_type": "markdown",
   "metadata": {},
   "source": [
    "# 2. Test Environment"
   ]
  },
  {
   "cell_type": "code",
   "execution_count": 2,
   "metadata": {},
   "outputs": [],
   "source": [
    "environment_name = \"CarRacing-v0\""
   ]
  },
  {
   "cell_type": "code",
   "execution_count": 3,
   "metadata": {},
   "outputs": [
    {
     "name": "stderr",
     "output_type": "stream",
     "text": [
      "c:\\users\\31kus\\.pyenv\\pyenv-win\\versions\\3.8.0\\lib\\site-packages\\gym\\logger.py:30: UserWarning: \u001b[33mWARN: Box bound precision lowered by casting to float32\u001b[0m\n",
      "  warnings.warn(colorize('%s: %s'%('WARN', msg % args), 'yellow'))\n"
     ]
    }
   ],
   "source": [
    "env = gym.make(environment_name)"
   ]
  },
  {
   "cell_type": "code",
   "execution_count": 4,
   "metadata": {},
   "outputs": [
    {
     "name": "stdout",
     "output_type": "stream",
     "text": [
      "Track generation: 1171..1468 -> 297-tiles track\n"
     ]
    },
    {
     "name": "stderr",
     "output_type": "stream",
     "text": [
      "c:\\users\\31kus\\.pyenv\\pyenv-win\\versions\\3.8.0\\lib\\site-packages\\pyglet\\image\\codecs\\wic.py:289: UserWarning: [WinError -2147417850] Cannot change thread mode after it is set\n",
      "  warnings.warn(str(err))\n"
     ]
    },
    {
     "name": "stdout",
     "output_type": "stream",
     "text": [
      "Episode:1 Score:-32.4324324324329\n",
      "Track generation: 1151..1443 -> 292-tiles track\n",
      "Episode:2 Score:-34.707903780069195\n",
      "Track generation: 1181..1480 -> 299-tiles track\n",
      "Episode:3 Score:-32.88590604026888\n",
      "Track generation: 1111..1393 -> 282-tiles track\n",
      "Episode:4 Score:-32.38434163701112\n",
      "Track generation: 1203..1508 -> 305-tiles track\n",
      "Episode:5 Score:-37.5000000000006\n"
     ]
    }
   ],
   "source": [
    "episodes = 5\n",
    "for episode in range(1, episodes+1):\n",
    "    state = env.reset()\n",
    "    done = False\n",
    "    score = 0 \n",
    "    \n",
    "    while not done:\n",
    "        env.render()\n",
    "        action = env.action_space.sample()\n",
    "        n_state, reward, done, info = env.step(action)\n",
    "        score+=reward\n",
    "    print('Episode:{} Score:{}'.format(episode, score))\n",
    "env.close()"
   ]
  },
  {
   "cell_type": "code",
   "execution_count": 5,
   "metadata": {},
   "outputs": [],
   "source": [
    "env.close()"
   ]
  },
  {
   "cell_type": "code",
   "execution_count": 6,
   "metadata": {},
   "outputs": [
    {
     "data": {
      "text/plain": [
       "array([-0.11854012,  0.49770862,  0.25900415], dtype=float32)"
      ]
     },
     "execution_count": 6,
     "metadata": {},
     "output_type": "execute_result"
    }
   ],
   "source": [
    "env.action_space.sample()"
   ]
  },
  {
   "cell_type": "code",
   "execution_count": 7,
   "metadata": {
    "collapsed": true
   },
   "outputs": [
    {
     "data": {
      "text/plain": [
       "array([[[214, 145,  22],\n",
       "        [ 28,  22, 208],\n",
       "        [ 97, 171,  27],\n",
       "        ...,\n",
       "        [189, 105,  10],\n",
       "        [131,  38, 114],\n",
       "        [112, 121,  56]],\n",
       "\n",
       "       [[179, 172, 106],\n",
       "        [  7, 160, 149],\n",
       "        [ 40, 202,  59],\n",
       "        ...,\n",
       "        [140, 138, 249],\n",
       "        [251,  60, 142],\n",
       "        [ 69, 173, 164]],\n",
       "\n",
       "       [[177, 145, 189],\n",
       "        [166, 252, 161],\n",
       "        [132, 108,  83],\n",
       "        ...,\n",
       "        [218,  92, 159],\n",
       "        [ 67, 107, 147],\n",
       "        [147, 155, 242]],\n",
       "\n",
       "       ...,\n",
       "\n",
       "       [[131, 135, 122],\n",
       "        [175,  57, 106],\n",
       "        [242,  43, 133],\n",
       "        ...,\n",
       "        [227, 183, 145],\n",
       "        [237,  60, 168],\n",
       "        [250,  54, 189]],\n",
       "\n",
       "       [[227, 236,   8],\n",
       "        [ 71, 217,  81],\n",
       "        [168, 139,   6],\n",
       "        ...,\n",
       "        [142, 176, 167],\n",
       "        [214, 163, 198],\n",
       "        [ 95, 105, 226]],\n",
       "\n",
       "       [[  4, 158, 201],\n",
       "        [ 21,  58, 116],\n",
       "        [ 11, 227, 122],\n",
       "        ...,\n",
       "        [ 41, 117, 110],\n",
       "        [152, 118,  72],\n",
       "        [172,   6,  48]]], dtype=uint8)"
      ]
     },
     "execution_count": 7,
     "metadata": {},
     "output_type": "execute_result"
    }
   ],
   "source": [
    "env.observation_space.sample()"
   ]
  },
  {
   "cell_type": "markdown",
   "metadata": {},
   "source": [
    "# 3. Train Model"
   ]
  },
  {
   "cell_type": "code",
   "execution_count": 8,
   "metadata": {},
   "outputs": [],
   "source": [
    "log_path = os.path.join('Training', 'Logs')"
   ]
  },
  {
   "cell_type": "code",
   "execution_count": 9,
   "metadata": {},
   "outputs": [
    {
     "name": "stdout",
     "output_type": "stream",
     "text": [
      "Using cpu device\n",
      "Wrapping the env with a `Monitor` wrapper\n",
      "Wrapping the env in a DummyVecEnv.\n",
      "Wrapping the env in a VecTransposeImage.\n"
     ]
    }
   ],
   "source": [
    "model = PPO(\"CnnPolicy\", env, verbose=1, tensorboard_log=log_path)"
   ]
  },
  {
   "cell_type": "code",
   "execution_count": 10,
   "metadata": {
    "scrolled": true
   },
   "outputs": [
    {
     "name": "stdout",
     "output_type": "stream",
     "text": [
      "Track generation: 1146..1437 -> 291-tiles track\n",
      "Logging to Training\\Logs\\PPO_1\n",
      "Track generation: 1163..1467 -> 304-tiles track\n",
      "Track generation: 1200..1504 -> 304-tiles track\n",
      "---------------------------------\n",
      "| rollout/           |          |\n",
      "|    ep_len_mean     | 1e+03    |\n",
      "|    ep_rew_mean     | -57.8    |\n",
      "| time/              |          |\n",
      "|    fps             | 107      |\n",
      "|    iterations      | 1        |\n",
      "|    time_elapsed    | 19       |\n",
      "|    total_timesteps | 2048     |\n",
      "---------------------------------\n",
      "Track generation: 1211..1518 -> 307-tiles track\n",
      "Track generation: 1183..1483 -> 300-tiles track\n",
      "-----------------------------------------\n",
      "| rollout/                |             |\n",
      "|    ep_len_mean          | 1e+03       |\n",
      "|    ep_rew_mean          | -55.1       |\n",
      "| time/                   |             |\n",
      "|    fps                  | 63          |\n",
      "|    iterations           | 2           |\n",
      "|    time_elapsed         | 64          |\n",
      "|    total_timesteps      | 4096        |\n",
      "| train/                  |             |\n",
      "|    approx_kl            | 0.009927418 |\n",
      "|    clip_fraction        | 0.0851      |\n",
      "|    clip_range           | 0.2         |\n",
      "|    entropy_loss         | -4.25       |\n",
      "|    explained_variance   | 0.0054      |\n",
      "|    learning_rate        | 0.0003      |\n",
      "|    loss                 | 0.14        |\n",
      "|    n_updates            | 10          |\n",
      "|    policy_gradient_loss | -0.00723    |\n",
      "|    std                  | 0.996       |\n",
      "|    value_loss           | 0.652       |\n",
      "-----------------------------------------\n",
      "Track generation: 1062..1340 -> 278-tiles track\n",
      "Track generation: 1124..1415 -> 291-tiles track\n",
      "------------------------------------------\n",
      "| rollout/                |              |\n",
      "|    ep_len_mean          | 1e+03        |\n",
      "|    ep_rew_mean          | -55.6        |\n",
      "| time/                   |              |\n",
      "|    fps                  | 56           |\n",
      "|    iterations           | 3            |\n",
      "|    time_elapsed         | 108          |\n",
      "|    total_timesteps      | 6144         |\n",
      "| train/                  |              |\n",
      "|    approx_kl            | 0.0075490214 |\n",
      "|    clip_fraction        | 0.0853       |\n",
      "|    clip_range           | 0.2          |\n",
      "|    entropy_loss         | -4.24        |\n",
      "|    explained_variance   | 0.171        |\n",
      "|    learning_rate        | 0.0003       |\n",
      "|    loss                 | 0.144        |\n",
      "|    n_updates            | 20           |\n",
      "|    policy_gradient_loss | -0.00992     |\n",
      "|    std                  | 0.993        |\n",
      "|    value_loss           | 0.472        |\n",
      "------------------------------------------\n",
      "Track generation: 1119..1403 -> 284-tiles track\n",
      "Track generation: 1116..1403 -> 287-tiles track\n",
      "retry to generate track (normal if there are not manyinstances of this message)\n",
      "Track generation: 1200..1504 -> 304-tiles track\n",
      "-----------------------------------------\n",
      "| rollout/                |             |\n",
      "|    ep_len_mean          | 1e+03       |\n",
      "|    ep_rew_mean          | -54.1       |\n",
      "| time/                   |             |\n",
      "|    fps                  | 52          |\n",
      "|    iterations           | 4           |\n",
      "|    time_elapsed         | 157         |\n",
      "|    total_timesteps      | 8192        |\n",
      "| train/                  |             |\n",
      "|    approx_kl            | 0.011801858 |\n",
      "|    clip_fraction        | 0.126       |\n",
      "|    clip_range           | 0.2         |\n",
      "|    entropy_loss         | -4.23       |\n",
      "|    explained_variance   | 0.118       |\n",
      "|    learning_rate        | 0.0003      |\n",
      "|    loss                 | 0.152       |\n",
      "|    n_updates            | 30          |\n",
      "|    policy_gradient_loss | -0.0156     |\n",
      "|    std                  | 0.988       |\n",
      "|    value_loss           | 0.468       |\n",
      "-----------------------------------------\n",
      "Track generation: 1235..1548 -> 313-tiles track\n",
      "Track generation: 1191..1493 -> 302-tiles track\n",
      "-----------------------------------------\n",
      "| rollout/                |             |\n",
      "|    ep_len_mean          | 1e+03       |\n",
      "|    ep_rew_mean          | -53.8       |\n",
      "| time/                   |             |\n",
      "|    fps                  | 50          |\n",
      "|    iterations           | 5           |\n",
      "|    time_elapsed         | 202         |\n",
      "|    total_timesteps      | 10240       |\n",
      "| train/                  |             |\n",
      "|    approx_kl            | 0.014045101 |\n",
      "|    clip_fraction        | 0.129       |\n",
      "|    clip_range           | 0.2         |\n",
      "|    entropy_loss         | -4.21       |\n",
      "|    explained_variance   | 0.0608      |\n",
      "|    learning_rate        | 0.0003      |\n",
      "|    loss                 | 0.365       |\n",
      "|    n_updates            | 40          |\n",
      "|    policy_gradient_loss | -0.0151     |\n",
      "|    std                  | 0.979       |\n",
      "|    value_loss           | 0.524       |\n",
      "-----------------------------------------\n",
      "Track generation: 1177..1476 -> 299-tiles track\n",
      "Track generation: 1294..1621 -> 327-tiles track\n",
      "-----------------------------------------\n",
      "| rollout/                |             |\n",
      "|    ep_len_mean          | 1e+03       |\n",
      "|    ep_rew_mean          | -52.6       |\n",
      "| time/                   |             |\n",
      "|    fps                  | 48          |\n",
      "|    iterations           | 6           |\n",
      "|    time_elapsed         | 251         |\n",
      "|    total_timesteps      | 12288       |\n",
      "| train/                  |             |\n",
      "|    approx_kl            | 0.010033894 |\n",
      "|    clip_fraction        | 0.137       |\n",
      "|    clip_range           | 0.2         |\n",
      "|    entropy_loss         | -4.18       |\n",
      "|    explained_variance   | 0.393       |\n",
      "|    learning_rate        | 0.0003      |\n",
      "|    loss                 | 0.136       |\n",
      "|    n_updates            | 50          |\n",
      "|    policy_gradient_loss | -0.0157     |\n",
      "|    std                  | 0.969       |\n",
      "|    value_loss           | 0.414       |\n",
      "-----------------------------------------\n",
      "Track generation: 1237..1551 -> 314-tiles track\n",
      "Track generation: 1171..1468 -> 297-tiles track\n",
      "-----------------------------------------\n",
      "| rollout/                |             |\n",
      "|    ep_len_mean          | 1e+03       |\n",
      "|    ep_rew_mean          | -53.2       |\n",
      "| time/                   |             |\n",
      "|    fps                  | 48          |\n",
      "|    iterations           | 7           |\n",
      "|    time_elapsed         | 293         |\n",
      "|    total_timesteps      | 14336       |\n",
      "| train/                  |             |\n",
      "|    approx_kl            | 0.021461993 |\n",
      "|    clip_fraction        | 0.174       |\n",
      "|    clip_range           | 0.2         |\n",
      "|    entropy_loss         | -4.15       |\n",
      "|    explained_variance   | 0.214       |\n",
      "|    learning_rate        | 0.0003      |\n",
      "|    loss                 | 0.167       |\n",
      "|    n_updates            | 60          |\n",
      "|    policy_gradient_loss | -0.0248     |\n",
      "|    std                  | 0.963       |\n",
      "|    value_loss           | 0.357       |\n",
      "-----------------------------------------\n",
      "Track generation: 1084..1359 -> 275-tiles track\n",
      "Track generation: 1070..1342 -> 272-tiles track\n",
      "-----------------------------------------\n",
      "| rollout/                |             |\n",
      "|    ep_len_mean          | 1e+03       |\n",
      "|    ep_rew_mean          | -52.8       |\n",
      "| time/                   |             |\n",
      "|    fps                  | 48          |\n",
      "|    iterations           | 8           |\n",
      "|    time_elapsed         | 334         |\n",
      "|    total_timesteps      | 16384       |\n",
      "| train/                  |             |\n",
      "|    approx_kl            | 0.029061051 |\n",
      "|    clip_fraction        | 0.181       |\n",
      "|    clip_range           | 0.2         |\n",
      "|    entropy_loss         | -4.12       |\n",
      "|    explained_variance   | 0.0767      |\n",
      "|    learning_rate        | 0.0003      |\n",
      "|    loss                 | 0.0664      |\n",
      "|    n_updates            | 70          |\n",
      "|    policy_gradient_loss | -0.0253     |\n",
      "|    std                  | 0.951       |\n",
      "|    value_loss           | 0.35        |\n",
      "-----------------------------------------\n",
      "Track generation: 917..1153 -> 236-tiles track\n",
      "retry to generate track (normal if there are not manyinstances of this message)\n",
      "Track generation: 1156..1449 -> 293-tiles track\n",
      "Track generation: 1041..1307 -> 266-tiles track\n",
      "retry to generate track (normal if there are not manyinstances of this message)\n",
      "Track generation: 1036..1299 -> 263-tiles track\n",
      "-----------------------------------------\n",
      "| rollout/                |             |\n",
      "|    ep_len_mean          | 1e+03       |\n",
      "|    ep_rew_mean          | -51         |\n",
      "| time/                   |             |\n",
      "|    fps                  | 48          |\n",
      "|    iterations           | 9           |\n",
      "|    time_elapsed         | 376         |\n",
      "|    total_timesteps      | 18432       |\n",
      "| train/                  |             |\n",
      "|    approx_kl            | 0.024837416 |\n",
      "|    clip_fraction        | 0.196       |\n",
      "|    clip_range           | 0.2         |\n",
      "|    entropy_loss         | -4.09       |\n",
      "|    explained_variance   | 0.0411      |\n",
      "|    learning_rate        | 0.0003      |\n",
      "|    loss                 | 0.0291      |\n",
      "|    n_updates            | 80          |\n",
      "|    policy_gradient_loss | -0.0236     |\n",
      "|    std                  | 0.941       |\n",
      "|    value_loss           | 0.391       |\n",
      "-----------------------------------------\n"
     ]
    },
    {
     "name": "stdout",
     "output_type": "stream",
     "text": [
      "Track generation: 1132..1419 -> 287-tiles track\n",
      "Track generation: 1073..1345 -> 272-tiles track\n",
      "-----------------------------------------\n",
      "| rollout/                |             |\n",
      "|    ep_len_mean          | 1e+03       |\n",
      "|    ep_rew_mean          | -48.9       |\n",
      "| time/                   |             |\n",
      "|    fps                  | 48          |\n",
      "|    iterations           | 10          |\n",
      "|    time_elapsed         | 424         |\n",
      "|    total_timesteps      | 20480       |\n",
      "| train/                  |             |\n",
      "|    approx_kl            | 0.034828566 |\n",
      "|    clip_fraction        | 0.228       |\n",
      "|    clip_range           | 0.2         |\n",
      "|    entropy_loss         | -4.06       |\n",
      "|    explained_variance   | 0.178       |\n",
      "|    learning_rate        | 0.0003      |\n",
      "|    loss                 | 0.0586      |\n",
      "|    n_updates            | 90          |\n",
      "|    policy_gradient_loss | -0.0317     |\n",
      "|    std                  | 0.931       |\n",
      "|    value_loss           | 0.38        |\n",
      "-----------------------------------------\n",
      "Track generation: 1073..1345 -> 272-tiles track\n",
      "Track generation: 1176..1474 -> 298-tiles track\n",
      "-----------------------------------------\n",
      "| rollout/                |             |\n",
      "|    ep_len_mean          | 1e+03       |\n",
      "|    ep_rew_mean          | -47.4       |\n",
      "| time/                   |             |\n",
      "|    fps                  | 48          |\n",
      "|    iterations           | 11          |\n",
      "|    time_elapsed         | 467         |\n",
      "|    total_timesteps      | 22528       |\n",
      "| train/                  |             |\n",
      "|    approx_kl            | 0.059648585 |\n",
      "|    clip_fraction        | 0.25        |\n",
      "|    clip_range           | 0.2         |\n",
      "|    entropy_loss         | -4.03       |\n",
      "|    explained_variance   | 0.26        |\n",
      "|    learning_rate        | 0.0003      |\n",
      "|    loss                 | -0.0155     |\n",
      "|    n_updates            | 100         |\n",
      "|    policy_gradient_loss | -0.0369     |\n",
      "|    std                  | 0.92        |\n",
      "|    value_loss           | 0.403       |\n",
      "-----------------------------------------\n",
      "Track generation: 1241..1555 -> 314-tiles track\n",
      "Track generation: 1198..1501 -> 303-tiles track\n",
      "----------------------------------------\n",
      "| rollout/                |            |\n",
      "|    ep_len_mean          | 1e+03      |\n",
      "|    ep_rew_mean          | -47.1      |\n",
      "| time/                   |            |\n",
      "|    fps                  | 47         |\n",
      "|    iterations           | 12         |\n",
      "|    time_elapsed         | 512        |\n",
      "|    total_timesteps      | 24576      |\n",
      "| train/                  |            |\n",
      "|    approx_kl            | 0.03198396 |\n",
      "|    clip_fraction        | 0.259      |\n",
      "|    clip_range           | 0.2        |\n",
      "|    entropy_loss         | -3.98      |\n",
      "|    explained_variance   | 0.154      |\n",
      "|    learning_rate        | 0.0003     |\n",
      "|    loss                 | -0.0257    |\n",
      "|    n_updates            | 110        |\n",
      "|    policy_gradient_loss | -0.0344    |\n",
      "|    std                  | 0.906      |\n",
      "|    value_loss           | 0.283      |\n",
      "----------------------------------------\n",
      "Track generation: 1109..1395 -> 286-tiles track\n",
      "Track generation: 1155..1447 -> 292-tiles track\n",
      "-----------------------------------------\n",
      "| rollout/                |             |\n",
      "|    ep_len_mean          | 1e+03       |\n",
      "|    ep_rew_mean          | -47.5       |\n",
      "| time/                   |             |\n",
      "|    fps                  | 47          |\n",
      "|    iterations           | 13          |\n",
      "|    time_elapsed         | 554         |\n",
      "|    total_timesteps      | 26624       |\n",
      "| train/                  |             |\n",
      "|    approx_kl            | 0.007735701 |\n",
      "|    clip_fraction        | 0.255       |\n",
      "|    clip_range           | 0.2         |\n",
      "|    entropy_loss         | -3.94       |\n",
      "|    explained_variance   | 0.379       |\n",
      "|    learning_rate        | 0.0003      |\n",
      "|    loss                 | -0.0392     |\n",
      "|    n_updates            | 120         |\n",
      "|    policy_gradient_loss | -0.0409     |\n",
      "|    std                  | 0.897       |\n",
      "|    value_loss           | 0.184       |\n",
      "-----------------------------------------\n",
      "Track generation: 1109..1391 -> 282-tiles track\n",
      "Track generation: 1309..1640 -> 331-tiles track\n",
      "----------------------------------------\n",
      "| rollout/                |            |\n",
      "|    ep_len_mean          | 1e+03      |\n",
      "|    ep_rew_mean          | -47.8      |\n",
      "| time/                   |            |\n",
      "|    fps                  | 47         |\n",
      "|    iterations           | 14         |\n",
      "|    time_elapsed         | 598        |\n",
      "|    total_timesteps      | 28672      |\n",
      "| train/                  |            |\n",
      "|    approx_kl            | -0.0031048 |\n",
      "|    clip_fraction        | 0.241      |\n",
      "|    clip_range           | 0.2        |\n",
      "|    entropy_loss         | -3.89      |\n",
      "|    explained_variance   | 0.43       |\n",
      "|    learning_rate        | 0.0003     |\n",
      "|    loss                 | -0.0386    |\n",
      "|    n_updates            | 130        |\n",
      "|    policy_gradient_loss | -0.0321    |\n",
      "|    std                  | 0.877      |\n",
      "|    value_loss           | 0.234      |\n",
      "----------------------------------------\n",
      "Track generation: 1043..1312 -> 269-tiles track\n",
      "Track generation: 1212..1519 -> 307-tiles track\n",
      "----------------------------------------\n",
      "| rollout/                |            |\n",
      "|    ep_len_mean          | 1e+03      |\n",
      "|    ep_rew_mean          | -48.1      |\n",
      "| time/                   |            |\n",
      "|    fps                  | 47         |\n",
      "|    iterations           | 15         |\n",
      "|    time_elapsed         | 640        |\n",
      "|    total_timesteps      | 30720      |\n",
      "| train/                  |            |\n",
      "|    approx_kl            | 0.03559784 |\n",
      "|    clip_fraction        | 0.265      |\n",
      "|    clip_range           | 0.2        |\n",
      "|    entropy_loss         | -3.84      |\n",
      "|    explained_variance   | 0.842      |\n",
      "|    learning_rate        | 0.0003     |\n",
      "|    loss                 | 0.0123     |\n",
      "|    n_updates            | 140        |\n",
      "|    policy_gradient_loss | -0.0333    |\n",
      "|    std                  | 0.864      |\n",
      "|    value_loss           | 0.175      |\n",
      "----------------------------------------\n",
      "Track generation: 1340..1679 -> 339-tiles track\n",
      "Track generation: 1108..1389 -> 281-tiles track\n",
      "-----------------------------------------\n",
      "| rollout/                |             |\n",
      "|    ep_len_mean          | 1e+03       |\n",
      "|    ep_rew_mean          | -48.2       |\n",
      "| time/                   |             |\n",
      "|    fps                  | 47          |\n",
      "|    iterations           | 16          |\n",
      "|    time_elapsed         | 682         |\n",
      "|    total_timesteps      | 32768       |\n",
      "| train/                  |             |\n",
      "|    approx_kl            | 0.022458065 |\n",
      "|    clip_fraction        | 0.257       |\n",
      "|    clip_range           | 0.2         |\n",
      "|    entropy_loss         | -3.8        |\n",
      "|    explained_variance   | 0.893       |\n",
      "|    learning_rate        | 0.0003      |\n",
      "|    loss                 | -0.015      |\n",
      "|    n_updates            | 150         |\n",
      "|    policy_gradient_loss | -0.0348     |\n",
      "|    std                  | 0.857       |\n",
      "|    value_loss           | 0.213       |\n",
      "-----------------------------------------\n",
      "Track generation: 1110..1401 -> 291-tiles track\n",
      "Track generation: 1280..1604 -> 324-tiles track\n",
      "-----------------------------------------\n",
      "| rollout/                |             |\n",
      "|    ep_len_mean          | 1e+03       |\n",
      "|    ep_rew_mean          | -49.2       |\n",
      "| time/                   |             |\n",
      "|    fps                  | 47          |\n",
      "|    iterations           | 17          |\n",
      "|    time_elapsed         | 729         |\n",
      "|    total_timesteps      | 34816       |\n",
      "| train/                  |             |\n",
      "|    approx_kl            | 0.039771512 |\n",
      "|    clip_fraction        | 0.288       |\n",
      "|    clip_range           | 0.2         |\n",
      "|    entropy_loss         | -3.77       |\n",
      "|    explained_variance   | 0.909       |\n",
      "|    learning_rate        | 0.0003      |\n",
      "|    loss                 | -0.0457     |\n",
      "|    n_updates            | 160         |\n",
      "|    policy_gradient_loss | -0.0357     |\n",
      "|    std                  | 0.85        |\n",
      "|    value_loss           | 0.151       |\n",
      "-----------------------------------------\n",
      "Track generation: 1208..1514 -> 306-tiles track\n",
      "Track generation: 1120..1404 -> 284-tiles track\n",
      "---------------------------------------\n",
      "| rollout/                |           |\n",
      "|    ep_len_mean          | 1e+03     |\n",
      "|    ep_rew_mean          | -50       |\n",
      "| time/                   |           |\n",
      "|    fps                  | 47        |\n",
      "|    iterations           | 18        |\n",
      "|    time_elapsed         | 775       |\n",
      "|    total_timesteps      | 36864     |\n",
      "| train/                  |           |\n",
      "|    approx_kl            | 0.0486041 |\n",
      "|    clip_fraction        | 0.322     |\n",
      "|    clip_range           | 0.2       |\n",
      "|    entropy_loss         | -3.76     |\n",
      "|    explained_variance   | 0.859     |\n",
      "|    learning_rate        | 0.0003    |\n",
      "|    loss                 | -0.0639   |\n",
      "|    n_updates            | 170       |\n",
      "|    policy_gradient_loss | -0.0391   |\n",
      "|    std                  | 0.846     |\n",
      "|    value_loss           | 0.17      |\n",
      "---------------------------------------\n"
     ]
    },
    {
     "name": "stdout",
     "output_type": "stream",
     "text": [
      "Track generation: 1261..1580 -> 319-tiles track\n",
      "Track generation: 1036..1299 -> 263-tiles track\n",
      "-----------------------------------------\n",
      "| rollout/                |             |\n",
      "|    ep_len_mean          | 1e+03       |\n",
      "|    ep_rew_mean          | -50.9       |\n",
      "| time/                   |             |\n",
      "|    fps                  | 47          |\n",
      "|    iterations           | 19          |\n",
      "|    time_elapsed         | 826         |\n",
      "|    total_timesteps      | 38912       |\n",
      "| train/                  |             |\n",
      "|    approx_kl            | 0.020510789 |\n",
      "|    clip_fraction        | 0.308       |\n",
      "|    clip_range           | 0.2         |\n",
      "|    entropy_loss         | -3.73       |\n",
      "|    explained_variance   | 0.84        |\n",
      "|    learning_rate        | 0.0003      |\n",
      "|    loss                 | -0.027      |\n",
      "|    n_updates            | 180         |\n",
      "|    policy_gradient_loss | -0.025      |\n",
      "|    std                  | 0.836       |\n",
      "|    value_loss           | 0.137       |\n",
      "-----------------------------------------\n",
      "Track generation: 1054..1329 -> 275-tiles track\n",
      "Track generation: 1231..1543 -> 312-tiles track\n",
      "------------------------------------------\n",
      "| rollout/                |              |\n",
      "|    ep_len_mean          | 1e+03        |\n",
      "|    ep_rew_mean          | -51.9        |\n",
      "| time/                   |              |\n",
      "|    fps                  | 46           |\n",
      "|    iterations           | 20           |\n",
      "|    time_elapsed         | 872          |\n",
      "|    total_timesteps      | 40960        |\n",
      "| train/                  |              |\n",
      "|    approx_kl            | 0.0009517744 |\n",
      "|    clip_fraction        | 0.264        |\n",
      "|    clip_range           | 0.2          |\n",
      "|    entropy_loss         | -3.71        |\n",
      "|    explained_variance   | 0.912        |\n",
      "|    learning_rate        | 0.0003       |\n",
      "|    loss                 | -0.0152      |\n",
      "|    n_updates            | 190          |\n",
      "|    policy_gradient_loss | -0.0237      |\n",
      "|    std                  | 0.832        |\n",
      "|    value_loss           | 0.154        |\n",
      "------------------------------------------\n"
     ]
    },
    {
     "data": {
      "text/plain": [
       "<stable_baselines3.ppo.ppo.PPO at 0x1e3a33b6d00>"
      ]
     },
     "execution_count": 10,
     "metadata": {},
     "output_type": "execute_result"
    }
   ],
   "source": [
    "model.learn(total_timesteps=40000)"
   ]
  },
  {
   "cell_type": "markdown",
   "metadata": {},
   "source": [
    "# 4. Save Model "
   ]
  },
  {
   "cell_type": "code",
   "execution_count": 4,
   "metadata": {},
   "outputs": [],
   "source": [
    "ppo_path = os.path.join('PPO_428k_Driving_model')"
   ]
  },
  {
   "cell_type": "code",
   "execution_count": 12,
   "metadata": {
    "scrolled": true
   },
   "outputs": [],
   "source": [
    "model.save(ppo_path)"
   ]
  },
  {
   "cell_type": "code",
   "execution_count": 12,
   "metadata": {},
   "outputs": [
    {
     "name": "stdout",
     "output_type": "stream",
     "text": [
      "Wrapping the env with a `Monitor` wrapper\n",
      "Wrapping the env in a DummyVecEnv.\n",
      "Wrapping the env in a VecTransposeImage.\n"
     ]
    },
    {
     "ename": "AssertionError",
     "evalue": "",
     "output_type": "error",
     "traceback": [
      "\u001b[1;31m---------------------------------------------------------------------------\u001b[0m",
      "\u001b[1;31mAssertionError\u001b[0m                            Traceback (most recent call last)",
      "Cell \u001b[1;32mIn[12], line 1\u001b[0m\n\u001b[1;32m----> 1\u001b[0m model \u001b[38;5;241m=\u001b[39m \u001b[43mPPO\u001b[49m\u001b[38;5;241;43m.\u001b[39;49m\u001b[43mload\u001b[49m\u001b[43m(\u001b[49m\u001b[43mppo_path\u001b[49m\u001b[43m,\u001b[49m\u001b[43m \u001b[49m\u001b[43menv\u001b[49m\u001b[43m)\u001b[49m\n",
      "File \u001b[1;32mc:\\users\\31kus\\.pyenv\\pyenv-win\\versions\\3.8.0\\lib\\site-packages\\stable_baselines3\\common\\base_class.py:645\u001b[0m, in \u001b[0;36mBaseAlgorithm.load\u001b[1;34m(cls, path, env, device, custom_objects, **kwargs)\u001b[0m\n\u001b[0;32m    643\u001b[0m model\u001b[38;5;241m.\u001b[39m\u001b[38;5;18m__dict__\u001b[39m\u001b[38;5;241m.\u001b[39mupdate(data)\n\u001b[0;32m    644\u001b[0m model\u001b[38;5;241m.\u001b[39m\u001b[38;5;18m__dict__\u001b[39m\u001b[38;5;241m.\u001b[39mupdate(kwargs)\n\u001b[1;32m--> 645\u001b[0m \u001b[43mmodel\u001b[49m\u001b[38;5;241;43m.\u001b[39;49m\u001b[43m_setup_model\u001b[49m\u001b[43m(\u001b[49m\u001b[43m)\u001b[49m\n\u001b[0;32m    647\u001b[0m \u001b[38;5;66;03m# put state_dicts back in place\u001b[39;00m\n\u001b[0;32m    648\u001b[0m model\u001b[38;5;241m.\u001b[39mset_parameters(params, exact_match\u001b[38;5;241m=\u001b[39m\u001b[38;5;28;01mTrue\u001b[39;00m, device\u001b[38;5;241m=\u001b[39mdevice)\n",
      "File \u001b[1;32mc:\\users\\31kus\\.pyenv\\pyenv-win\\versions\\3.8.0\\lib\\site-packages\\stable_baselines3\\ppo\\ppo.py:152\u001b[0m, in \u001b[0;36mPPO._setup_model\u001b[1;34m(self)\u001b[0m\n\u001b[0;32m    149\u001b[0m \u001b[38;5;28msuper\u001b[39m(PPO, \u001b[38;5;28mself\u001b[39m)\u001b[38;5;241m.\u001b[39m_setup_model()\n\u001b[0;32m    151\u001b[0m \u001b[38;5;66;03m# Initialize schedules for policy/value clipping\u001b[39;00m\n\u001b[1;32m--> 152\u001b[0m \u001b[38;5;28mself\u001b[39m\u001b[38;5;241m.\u001b[39mclip_range \u001b[38;5;241m=\u001b[39m \u001b[43mget_schedule_fn\u001b[49m\u001b[43m(\u001b[49m\u001b[38;5;28;43mself\u001b[39;49m\u001b[38;5;241;43m.\u001b[39;49m\u001b[43mclip_range\u001b[49m\u001b[43m)\u001b[49m\n\u001b[0;32m    153\u001b[0m \u001b[38;5;28;01mif\u001b[39;00m \u001b[38;5;28mself\u001b[39m\u001b[38;5;241m.\u001b[39mclip_range_vf \u001b[38;5;129;01mis\u001b[39;00m \u001b[38;5;129;01mnot\u001b[39;00m \u001b[38;5;28;01mNone\u001b[39;00m:\n\u001b[0;32m    154\u001b[0m     \u001b[38;5;28;01mif\u001b[39;00m \u001b[38;5;28misinstance\u001b[39m(\u001b[38;5;28mself\u001b[39m\u001b[38;5;241m.\u001b[39mclip_range_vf, (\u001b[38;5;28mfloat\u001b[39m, \u001b[38;5;28mint\u001b[39m)):\n",
      "File \u001b[1;32mc:\\users\\31kus\\.pyenv\\pyenv-win\\versions\\3.8.0\\lib\\site-packages\\stable_baselines3\\common\\utils.py:88\u001b[0m, in \u001b[0;36mget_schedule_fn\u001b[1;34m(value_schedule)\u001b[0m\n\u001b[0;32m     86\u001b[0m     value_schedule \u001b[38;5;241m=\u001b[39m constant_fn(\u001b[38;5;28mfloat\u001b[39m(value_schedule))\n\u001b[0;32m     87\u001b[0m \u001b[38;5;28;01melse\u001b[39;00m:\n\u001b[1;32m---> 88\u001b[0m     \u001b[38;5;28;01massert\u001b[39;00m callable(value_schedule)\n\u001b[0;32m     89\u001b[0m \u001b[38;5;28;01mreturn\u001b[39;00m value_schedule\n",
      "\u001b[1;31mAssertionError\u001b[0m: "
     ]
    }
   ],
   "source": [
    "model = PPO.load(ppo_path, env)"
   ]
  },
  {
   "cell_type": "markdown",
   "metadata": {},
   "source": [
    "# 5. Evaluate and Test"
   ]
  },
  {
   "cell_type": "code",
   "execution_count": 14,
   "metadata": {},
   "outputs": [
    {
     "name": "stderr",
     "output_type": "stream",
     "text": [
      "c:\\users\\31kus\\.pyenv\\pyenv-win\\versions\\3.8.0\\lib\\site-packages\\stable_baselines3\\common\\evaluation.py:65: UserWarning: Evaluation environment is not wrapped with a ``Monitor`` wrapper. This may result in reporting modified episode lengths and rewards, if other wrappers happen to modify these. Consider wrapping environment first with ``Monitor`` wrapper.\n",
      "  warnings.warn(\n"
     ]
    },
    {
     "name": "stdout",
     "output_type": "stream",
     "text": [
      "Track generation: 1283..1608 -> 325-tiles track\n"
     ]
    },
    {
     "data": {
      "text/plain": [
       "(-13.580246913580124, 0.0)"
      ]
     },
     "execution_count": 14,
     "metadata": {},
     "output_type": "execute_result"
    }
   ],
   "source": [
    "evaluate_policy(model, env, n_eval_episodes=1, render=True)"
   ]
  },
  {
   "cell_type": "code",
   "execution_count": 15,
   "metadata": {},
   "outputs": [],
   "source": [
    "env.close()"
   ]
  },
  {
   "cell_type": "code",
   "execution_count": null,
   "metadata": {},
   "outputs": [
    {
     "name": "stdout",
     "output_type": "stream",
     "text": [
      "Track generation: 992..1249 -> 257-tiles track\n"
     ]
    }
   ],
   "source": [
    "obs = env.reset()\n",
    "while True:\n",
    "    action, _states = model.predict(obs)\n",
    "    obs, rewards, dones, info = env.step(action)\n",
    "    env.render()"
   ]
  },
  {
   "cell_type": "code",
   "execution_count": null,
   "metadata": {},
   "outputs": [],
   "source": [
    "env.close()"
   ]
  },
  {
   "cell_type": "code",
   "execution_count": null,
   "metadata": {},
   "outputs": [],
   "source": []
  }
 ],
 "metadata": {
  "kernelspec": {
   "display_name": "Python 3 (ipykernel)",
   "language": "python",
   "name": "python3"
  },
  "language_info": {
   "codemirror_mode": {
    "name": "ipython",
    "version": 3
   },
   "file_extension": ".py",
   "mimetype": "text/x-python",
   "name": "python",
   "nbconvert_exporter": "python",
   "pygments_lexer": "ipython3",
   "version": "3.7.0"
  }
 },
 "nbformat": 4,
 "nbformat_minor": 2
}
